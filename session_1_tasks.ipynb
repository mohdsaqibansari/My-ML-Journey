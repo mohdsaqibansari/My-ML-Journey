{
  "nbformat": 4,
  "nbformat_minor": 0,
  "metadata": {
    "colab": {
      "provenance": []
    },
    "kernelspec": {
      "name": "python3",
      "display_name": "Python 3"
    },
    "language_info": {
      "name": "python"
    }
  },
  "cells": [
    {
      "cell_type": "markdown",
      "source": [
        "# Task : Session 1 done by Mohd Saqib Ansari\n",
        "Solve these questions own your own and try to test yourself what you have learned in the session.\n",
        "\n",
        "Happy Learning!"
      ],
      "metadata": {
        "id": "A05OG15VqOPF"
      }
    },
    {
      "cell_type": "markdown",
      "source": [
        "### Q1 :- Print the given strings as per stated format.\n",
        "\n",
        "**Given strings**: \n",
        "```\n",
        "\"Data\" \"Science\" \"Mentorship\" \"Program\" \n",
        "\"By\" \"CampusX\"\n",
        "```\n",
        "**Output**: \n",
        "``` \n",
        "Data-Science-Mentorship-Program-started-By-CampusX\n",
        "```\n",
        "\n",
        "Concept- [Seperator and End]"
      ],
      "metadata": {
        "id": "2doIXf8bqe9_"
      }
    },
    {
      "cell_type": "code",
      "source": [
        "print(\"Data\" ,\"Science\", \"Mentorship\", \"Program\",\"started\",sep='-',end='-')\n",
        "print(\"By\" ,\"CampusX\",sep='-')"
      ],
      "metadata": {
        "id": "-em6d3KErDtp",
        "outputId": "e1ca671f-12a2-4476-c84d-b06919612949",
        "colab": {
          "base_uri": "https://localhost:8080/"
        }
      },
      "execution_count": 4,
      "outputs": [
        {
          "output_type": "stream",
          "name": "stdout",
          "text": [
            "Data-Science-Mentorship-Program-started-By-CampusX\n"
          ]
        }
      ]
    },
    {
      "cell_type": "markdown",
      "source": [
        "### Q2:- Write a program that will convert celsius value to fahrenheit."
      ],
      "metadata": {
        "id": "1KUpN7ZTrC3_"
      }
    },
    {
      "cell_type": "code",
      "source": [
        "celsius=float(input(\"Enter temperaturein Celsius \"))\n",
        "print(\"The temperature in fahrenheit is \",(celsius*9/5)+32)"
      ],
      "metadata": {
        "id": "yxKYhYQiqWfj",
        "outputId": "5ad8987f-0da9-4740-a0c2-9226e528a44a",
        "colab": {
          "base_uri": "https://localhost:8080/"
        }
      },
      "execution_count": 5,
      "outputs": [
        {
          "output_type": "stream",
          "name": "stdout",
          "text": [
            "Enter temperaturein Celsius 5\n",
            "The temperature in fahrenheit is  41.0\n"
          ]
        }
      ]
    },
    {
      "cell_type": "markdown",
      "source": [
        "### Q3:- Take 2 numbers as input from the user.Write a program to swap the numbers without using any special python syntax."
      ],
      "metadata": {
        "id": "RLrOBBJurLB2"
      }
    },
    {
      "cell_type": "code",
      "source": [
        "num1=int(input(\"Enter first Number \"))\n",
        "num2=int(input(\"Enter second Number \"))\n",
        "print(\"Your Input Data: \",num1,num2)\n",
        "temp=num1\n",
        "num1=num2\n",
        "num2=temp\n",
        "print(\"Your swapped Numbers: \",num1,num2)\n"
      ],
      "metadata": {
        "id": "yPn7if0TrJ4F",
        "outputId": "9bba6271-c87c-4d6b-b362-092290ac642b",
        "colab": {
          "base_uri": "https://localhost:8080/"
        }
      },
      "execution_count": 7,
      "outputs": [
        {
          "output_type": "stream",
          "name": "stdout",
          "text": [
            "Enter first Number 23\n",
            "Enter second Number 7\n",
            "Your Input Data:  23 7\n",
            "Your swapped Numbers:  7 23\n"
          ]
        }
      ]
    },
    {
      "cell_type": "markdown",
      "source": [
        "### Q4:- Write a program to find the euclidean distance between two coordinates.Take both the coordinates from the user as input."
      ],
      "metadata": {
        "id": "waLCP1bjr7ML"
      }
    },
    {
      "cell_type": "code",
      "source": [
        "x1=int(input(\"Enter x1 cordinate \"))\n",
        "y1=int(input(\"Enter y1 cordinate \"))\n",
        "x2=int(input(\"Enter x2 cordinate \"))\n",
        "y2=int(input(\"Enter y2 cordinate \"))\n",
        "print(\"Euclidean Distance is: \", ((x1-x2)**2 +(y1-y2)**2)**0.5)"
      ],
      "metadata": {
        "id": "Pl1Sv-xnrxnH",
        "outputId": "b66c8b6a-58a8-4c4c-ba7b-a9f12a7c13c3",
        "colab": {
          "base_uri": "https://localhost:8080/"
        }
      },
      "execution_count": 8,
      "outputs": [
        {
          "output_type": "stream",
          "name": "stdout",
          "text": [
            "Enter x1 cordinate 4\n",
            "Enter y1 cordinate 3\n",
            "Enter x2 cordinate 2\n",
            "Enter y2 cordinate 1\n",
            "Euclidean Distance is:  2.8284271247461903\n"
          ]
        }
      ]
    },
    {
      "cell_type": "markdown",
      "source": [
        "### Q5:- Write a program to find the simple interest when the value of principle,rate of interest and time period is provided by the user.\n"
      ],
      "metadata": {
        "id": "VLrhg-FRsHjR"
      }
    },
    {
      "cell_type": "code",
      "source": [
        "principal=float(input(\"Enter the Principal Amount \"))\n",
        "rate=float(input(\"Enter the Rate of Interest \"))\n",
        "time=float(input(\"Enter the time period \"))\n",
        "print(\"Simple Interest is : \",principal*rate*time/100)"
      ],
      "metadata": {
        "id": "s40DlReZsTmY",
        "outputId": "af9eba6e-f79c-4877-b35d-77546f39d14e",
        "colab": {
          "base_uri": "https://localhost:8080/"
        }
      },
      "execution_count": 9,
      "outputs": [
        {
          "output_type": "stream",
          "name": "stdout",
          "text": [
            "Enter the Principal Amount 1000\n",
            "Enter the Rate of Interest 2\n",
            "Enter the time period 1\n",
            "Simple Interest is :  20.0\n"
          ]
        }
      ]
    },
    {
      "cell_type": "markdown",
      "source": [
        "### Q6:- Write a program that will tell the number of dogs and chicken are there when the user will provide the value of total heads and legs.\n",
        "\n",
        "For example:\n",
        "Input:\n",
        "heads -> 4\n",
        "legs -> 12\n",
        "<br>\n",
        "Output:\n",
        "dogs -> 2\n",
        "chicken -> 2\n",
        "\n",
        "\n",
        "\n"
      ],
      "metadata": {
        "id": "LMy0BTUktYKa"
      }
    },
    {
      "cell_type": "code",
      "source": [
        "legs=int(input(\"Enter number of Legs \"))\n",
        "head=int(input(\"Enter number of Heads \"))\n",
        "dogs=(legs-(2*head))/2\n",
        "print(\"Number of Dogs: \",dogs,end=' ')\n",
        "print(\"Number of Chicken: \",head-dogs)"
      ],
      "metadata": {
        "id": "XSBvJoA4tXaG",
        "outputId": "1bfced0f-c174-4910-8fe6-98fdbd6a7f12",
        "colab": {
          "base_uri": "https://localhost:8080/"
        }
      },
      "execution_count": 15,
      "outputs": [
        {
          "output_type": "stream",
          "name": "stdout",
          "text": [
            "Enter number of Legs 12\n",
            "Enter number of Heads 4\n",
            "Number of Dogs:  2.0 Number of Chicken:  2.0\n"
          ]
        }
      ]
    },
    {
      "cell_type": "markdown",
      "source": [
        "4### Q7:- Write a program to find the sum of squares of first n natural numbers where n will be provided by the user."
      ],
      "metadata": {
        "id": "gJ7C5kZYt4BP"
      }
    },
    {
      "cell_type": "code",
      "source": [
        "n=int(input(\"Enter the value of n to find sum of squares of first n natural numbers \"))\n",
        "print(\"sum of squares of first n natural numbers is: \",(n*(n+1)*(2*n+1)/6))"
      ],
      "metadata": {
        "id": "_tHsmEHzt2nX",
        "outputId": "e84eacca-a779-4ad3-c7a8-2ea3aff56beb",
        "colab": {
          "base_uri": "https://localhost:8080/"
        }
      },
      "execution_count": 18,
      "outputs": [
        {
          "output_type": "stream",
          "name": "stdout",
          "text": [
            "Enter the value of n to find sum of squares of first n natural numbers 8\n",
            "sum of squares of first n natural numbers is:  204.0\n"
          ]
        }
      ]
    },
    {
      "cell_type": "markdown",
      "source": [
        "### Q8:- Given the first 2 terms of an Arithmetic Series.Find the Nth term of the series. Assume all inputs are provided by the user."
      ],
      "metadata": {
        "id": "FHrMM7g-yG1h"
      }
    },
    {
      "cell_type": "code",
      "source": [
        "a1=int(input(\"Enter first term \"))\n",
        "a2=int(input(\"Enter second term \"))\n",
        "n=int(input(\"Enter the valu of n \"))\n",
        "print(\"The nth term is \",a1+ ((n-1)*(a2-a1)))"
      ],
      "metadata": {
        "id": "go4_kmZmyVSx",
        "outputId": "8a599d58-9e4a-40d3-c320-78b31a14c634",
        "colab": {
          "base_uri": "https://localhost:8080/"
        }
      },
      "execution_count": 19,
      "outputs": [
        {
          "output_type": "stream",
          "name": "stdout",
          "text": [
            "Enter first term 2\n",
            "Enter second term 3\n",
            "Enter the valu of n 4\n",
            "The nth term is  5\n"
          ]
        }
      ]
    },
    {
      "cell_type": "markdown",
      "source": [
        "### Q9:- Given 2 fractions, find the sum of those 2 fractions.Take the numerator and denominator values of the fractions from the user."
      ],
      "metadata": {
        "id": "QgyRX_es1oum"
      }
    },
    {
      "cell_type": "code",
      "source": [
        "num1=int(input(\"Enter Numerator 1\"))\n",
        "den1=int(input(\"Enter Denominator 2\"))\n",
        "num2=int(input(\"Enter Numerator 1\"))\n",
        "den2=int(input(\"Enter Denominator 2\"))\n",
        "frac1=num1/den1\n",
        "frac2=num2/den2\n",
        "print(\"Sum od two fractions is \", frac1+frac2)"
      ],
      "metadata": {
        "id": "X05xqFS1yW16",
        "outputId": "e97f6812-af91-46a3-ee9c-e0f53966e47f",
        "colab": {
          "base_uri": "https://localhost:8080/"
        }
      },
      "execution_count": 20,
      "outputs": [
        {
          "output_type": "stream",
          "name": "stdout",
          "text": [
            "Enter Numerator 11\n",
            "Enter Denominator 22\n",
            "Enter Numerator 11\n",
            "Enter Denominator 22\n",
            "Sum od two fractions is  1.0\n"
          ]
        }
      ]
    },
    {
      "cell_type": "markdown",
      "source": [
        "### Q10:- Given the height, width and breadth of a milk tank, you have to find out how many glasses of milk can be obtained? Assume all the inputs are provided by the user.\n",
        "\n",
        "\n",
        "\n",
        "Input:<br>\n",
        "Dimensions of the milk tank<br>\n",
        "H = 20cm, L = 20cm, B = 20cm\n",
        "<br><br>\n",
        "Dimensions of the glass<br>\n",
        "h = 3cm, r = 1cm"
      ],
      "metadata": {
        "id": "eaql38ln13u7"
      }
    },
    {
      "cell_type": "code",
      "source": [
        "height=int(input(\"Enter the Height of Tank \"))\n",
        "breadth=int(input(\"Enter the Breadth of Tank \"))\n",
        "width=int(input(\"Enter the Width of Tank \"))\n",
        "h=int(input(\"Enter the Height of glass \"))\n",
        "r=int(input(\"Enter the radius of glass \"))\n",
        "print(\"Number of glasses of milk; \",(height*breadth*width)/(3.14*r**2*h))"
      ],
      "metadata": {
        "id": "FePZqno74eWv",
        "outputId": "d67738a9-55b9-4de8-9cba-778dd0502a05",
        "colab": {
          "base_uri": "https://localhost:8080/"
        }
      },
      "execution_count": 21,
      "outputs": [
        {
          "output_type": "stream",
          "name": "stdout",
          "text": [
            "Enter the Height of Tank 20\n",
            "Enter the Breadth of Tank 20\n",
            "Enter the Width of Tank 20\n",
            "Enter the Height of glass 3\n",
            "Enter the radius of glass 1\n",
            "Number of glasses of milk;  849.2569002123142\n"
          ]
        }
      ]
    },
    {
      "cell_type": "code",
      "source": [],
      "metadata": {
        "id": "-u6CFRC8D4Ux"
      },
      "execution_count": null,
      "outputs": []
    }
  ]
}