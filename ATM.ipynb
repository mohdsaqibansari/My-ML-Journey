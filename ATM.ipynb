{
  "nbformat": 4,
  "nbformat_minor": 0,
  "metadata": {
    "colab": {
      "provenance": [],
      "authorship_tag": "ABX9TyO9Mpm4dHRd0hQtuf3nk9jw",
      "include_colab_link": true
    },
    "kernelspec": {
      "name": "python3",
      "display_name": "Python 3"
    },
    "language_info": {
      "name": "python"
    }
  },
  "cells": [
    {
      "cell_type": "markdown",
      "metadata": {
        "id": "view-in-github",
        "colab_type": "text"
      },
      "source": [
        "<a href=\"https://colab.research.google.com/github/mohdsaqibansari/My-ML-Journey/blob/main/ATM.ipynb\" target=\"_parent\"><img src=\"https://colab.research.google.com/assets/colab-badge.svg\" alt=\"Open In Colab\"/></a>"
      ]
    },
    {
      "cell_type": "code",
      "source": [
        "class Atm:\n",
        "   # Constructor \n",
        "  def __init__(self):\n",
        "    self.balance=0\n",
        "    self.pin=''\n",
        "    # print(\"Hello\")\n",
        "    self.menu()\n",
        "  \n",
        "  def menu(self):\n",
        "    user_inp=input('''\n",
        "     1. Enter 1 to set PIN.\n",
        "     2. Enter 2 to deposit money.\n",
        "     3. Enter 3 to withdraw money.\n",
        "     4. Enter 4 to check balance.\n",
        "     5. Enter 5 to Exit.\n",
        "    ''')\n",
        "\n",
        "    if user_inp=='1':\n",
        "      self.set_pin()\n",
        "\n",
        "    elif user_inp=='2':\n",
        "      self.deposit()\n",
        "    \n",
        "    elif user_inp=='3':\n",
        "      self.withdraw()\n",
        "    elif user_inp=='4':\n",
        "      self.check_bal()\n",
        "    else:\n",
        "      print(\"Thanks for using ATM\")\n",
        "   \n",
        "   # This is set pin method.\n",
        "  def set_pin(self):\n",
        "    self.pin=input(\"Enter your PIN \")\n",
        "    print(\"PIN set successfully\")\n",
        "    self.menu()\n",
        "\n",
        "  def deposit(self):\n",
        "    user_pin=input('Enter your PIN: ')\n",
        "    if user_pin==self.pin:\n",
        "      amount=int(input(\"Enter the money you want to deposit: \"))\n",
        "      self.balance+=amount\n",
        "      print(\"Money deposited successfully.\")\n",
        "      self.menu()\n",
        "    else:\n",
        "      print(\"Invalid PIN\")\n",
        "      self.deposit()\n",
        "\n",
        "  def withdraw(self):\n",
        "    user_pin=input('Enter your PIN: ')\n",
        "    if user_pin==self.pin:\n",
        "      withdraw=int(input(\"Enter the amount you want to withdraw: \"))\n",
        "      if withdraw<=self.balance:\n",
        "        self.balance-=withdraw\n",
        "        print(\"Your Balance left: \", self.balance)\n",
        "        self.menu()\n",
        "      else:\n",
        "        print(\"Insufficient Balance.\")\n",
        "        self.withdraw()\n",
        "    else:\n",
        "      print(\"Invalid PIN.\")\n",
        "      self.withdraw()\n",
        "  \n",
        "  def check_bal(self):\n",
        "    user_pin=input('Enter your PIN: ')\n",
        "    if user_pin==self.pin:\n",
        "      print(\"Your Balance is: \",self.balance)\n",
        "      self.menu()\n",
        "    else:\n",
        "      print(\"Invalid PIN.\")\n",
        "      self.check_bal()\n",
        "    \n"
      ],
      "metadata": {
        "id": "mhHNDeU9A74G"
      },
      "execution_count": 23,
      "outputs": []
    },
    {
      "cell_type": "code",
      "source": [],
      "metadata": {
        "id": "3a8JEI__X66a"
      },
      "execution_count": null,
      "outputs": []
    }
  ]
}