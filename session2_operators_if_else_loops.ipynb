{
  "nbformat": 4,
  "nbformat_minor": 0,
  "metadata": {
    "colab": {
      "provenance": []
    },
    "kernelspec": {
      "name": "python3",
      "display_name": "Python 3"
    },
    "language_info": {
      "name": "python"
    }
  },
  "cells": [
    {
      "cell_type": "markdown",
      "source": [
        "# Operators in Python\n",
        "\n",
        "- Arithmetic Operators\n",
        "- Relational Operators\n",
        "- Logical Operators\n",
        "- Bitwise Operators\n",
        "- Assignment Operators\n",
        "- Membership Operators"
      ],
      "metadata": {
        "id": "y1HMD4oI7FL7"
      }
    },
    {
      "cell_type": "code",
      "source": [
        "# Arithmetric Operators\n",
        "print(5+6)\n",
        "\n",
        "print(5-6)\n",
        "\n",
        "print(5*6)\n",
        "\n",
        "print(5/2)\n",
        "\n",
        "print(5//2)  # It will give quotient in integer format only.\n",
        "\n",
        "print(5%2)\n",
        "\n",
        "print(5**2)"
      ],
      "metadata": {
        "id": "a7cegk-f7U4-",
        "colab": {
          "base_uri": "https://localhost:8080/"
        },
        "outputId": "78933c48-d602-4133-9b27-aeecb7c2644d"
      },
      "execution_count": 1,
      "outputs": [
        {
          "output_type": "stream",
          "name": "stdout",
          "text": [
            "11\n",
            "-1\n",
            "30\n",
            "2.5\n",
            "2\n",
            "1\n",
            "25\n"
          ]
        }
      ]
    },
    {
      "cell_type": "code",
      "source": [
        "# Relational Operators\n",
        "print(4>5)\n",
        "\n",
        "print(4<5)\n",
        "\n",
        "print(4>=4)\n",
        "\n",
        "print(4<=4)\n",
        "\n",
        "print(4==4)\n",
        "\n",
        "print(4!=4)"
      ],
      "metadata": {
        "id": "TMIQKhFd7Y5A",
        "colab": {
          "base_uri": "https://localhost:8080/"
        },
        "outputId": "573867e9-962a-45a6-a313-dcaa8b9a6406"
      },
      "execution_count": null,
      "outputs": [
        {
          "output_type": "stream",
          "name": "stdout",
          "text": [
            "False\n",
            "True\n",
            "True\n",
            "True\n",
            "True\n",
            "False\n"
          ]
        }
      ]
    },
    {
      "cell_type": "code",
      "source": [
        "# Logical Operators\n",
        "print(1 and 0)\n",
        "print(2 and 1)\n",
        "print(1 or 0)\n",
        "print(3 or 4)\n",
        "print( 71 or 43)\n",
        "print(20 or 0)\n",
        "print(-1 or 0)\n",
        "print(not 1)\n",
        "print(not 2)\n",
        "print(not -1)\n",
        "print(not 0)"
      ],
      "metadata": {
        "id": "vyxdjDbc7avq",
        "colab": {
          "base_uri": "https://localhost:8080/"
        },
        "outputId": "13b89a4c-5a2f-43f5-c8fb-3bc80e3ab81d"
      },
      "execution_count": 7,
      "outputs": [
        {
          "output_type": "stream",
          "name": "stdout",
          "text": [
            "0\n",
            "1\n",
            "1\n",
            "3\n",
            "71\n",
            "20\n",
            "-1\n",
            "False\n",
            "False\n",
            "False\n",
            "True\n"
          ]
        }
      ]
    },
    {
      "cell_type": "code",
      "source": [
        "# Bitwise Operators\n",
        "\n",
        "# bitwise and\n",
        "print(2 & 3)\n",
        "\n",
        "# bitwise or\n",
        "print(2 | 3)\n",
        "\n",
        "# bitwise xor\n",
        "print(2 ^ 3)\n",
        "\n",
        "print(~3)\n",
        "\n",
        "print(4 >> 2)\n",
        "\n",
        "print(5 << 2)"
      ],
      "metadata": {
        "id": "H4KzpSke7d9l",
        "colab": {
          "base_uri": "https://localhost:8080/"
        },
        "outputId": "5832a648-6430-425c-8fa7-8dbad5d8d4b3"
      },
      "execution_count": null,
      "outputs": [
        {
          "output_type": "stream",
          "name": "stdout",
          "text": [
            "2\n",
            "3\n",
            "1\n",
            "-4\n",
            "1\n",
            "20\n"
          ]
        }
      ]
    },
    {
      "cell_type": "code",
      "source": [
        "# Assignment Operators\n",
        "\n",
        "# = \n",
        "# a = 2\n",
        "\n",
        "a = 2\n",
        "\n",
        "# a = a % 2\n",
        "a %= 2\n",
        "\n",
        "# a++ ++a\n",
        "\n",
        "print(a)"
      ],
      "metadata": {
        "id": "8EEm8eHO7gD_",
        "colab": {
          "base_uri": "https://localhost:8080/"
        },
        "outputId": "a421f118-2ee3-42da-91ff-3cd06de41755"
      },
      "execution_count": null,
      "outputs": [
        {
          "output_type": "stream",
          "name": "stdout",
          "text": [
            "4\n"
          ]
        }
      ]
    },
    {
      "cell_type": "code",
      "source": [
        "# Membership Operators\n",
        "\n",
        "# in/not in\n",
        "\n",
        "print('D' not in 'Delhi')\n",
        "print('D' in 'Delhi')\n",
        "\n",
        "print(1 in [2,3,4,5,6])\n",
        "print('d' in \"Devanagari\")\n",
        "print(1 in [2,3,4,1,5,6])"
      ],
      "metadata": {
        "id": "LzrIz7I87h-W",
        "colab": {
          "base_uri": "https://localhost:8080/"
        },
        "outputId": "2d1ad07e-f979-4f75-cf1c-28afcbc9c821"
      },
      "execution_count": 10,
      "outputs": [
        {
          "output_type": "stream",
          "name": "stdout",
          "text": [
            "False\n",
            "True\n",
            "False\n",
            "False\n",
            "True\n"
          ]
        }
      ]
    },
    {
      "cell_type": "code",
      "source": [
        "# Program - Find the sum of a 3 digit number entered by the user\n",
        "\n",
        "number=int(input(\"Enter a 3 digit number \"))\n",
        "a= number%10\n",
        "print(a)\n",
        "number=int(number/10)\n",
        "print(number)\n",
        "b=number%10\n",
        "number=int(number/10)\n",
        "print(number)\n",
        "print(a+b+number)"
      ],
      "metadata": {
        "id": "C-LoVrYGDEuB",
        "colab": {
          "base_uri": "https://localhost:8080/"
        },
        "outputId": "819e5201-5f52-498c-ead0-d27974119b9d"
      },
      "execution_count": 16,
      "outputs": [
        {
          "output_type": "stream",
          "name": "stdout",
          "text": [
            "Enter a 3 digit number 123\n",
            "3\n",
            "12\n",
            "1\n",
            "6\n"
          ]
        }
      ]
    },
    {
      "cell_type": "markdown",
      "source": [
        "# If-else in Python"
      ],
      "metadata": {
        "id": "Iq7CzVFs7mWT"
      }
    },
    {
      "cell_type": "code",
      "source": [
        "# login program and indentation\n",
        "# email -> nitish.campusx@gmail.com\n",
        "# password -> 1234\n",
        "\n",
        "email=input(\"Enter your email \")\n",
        "password=input(\"Enter your password \")\n",
        "\n",
        "if email== \"nitish.campusx@gmail.com\" and password==\"1234\":\n",
        "  print(\"Welcome Nitish\")\n",
        "elif email!= \"nitish.campusx@gmail.com\" and password==\"1234\":\n",
        "  print(\"Wrong Email.\")\n",
        "  email=input(\"Enter your email again \")\n",
        "  if email== \"nitish.campusx@gmail.com\":\n",
        "    print(\"Welcome Nitish, finally.\")\n",
        "  else:\n",
        "    print(\"who are you? I am calling the cops.\")\n",
        "elif email== \"nitish.campusx@gmail.com\" and password!=\"1234\":\n",
        "  print(\"Wrong Password.\")\n",
        "  password=input(\"Enter your password again \")\n",
        "  if password==\"1234\":\n",
        "    print(\"Welcome Nitish, finally.\")\n",
        "  else:\n",
        "    print(\"who are you? I am calling the cops.\")\n",
        "else:\n",
        "  print(\"Try Again.\")\n",
        "\n",
        "\n",
        "\n"
      ],
      "metadata": {
        "id": "dGz-83pN7oxe",
        "colab": {
          "base_uri": "https://localhost:8080/"
        },
        "outputId": "65915384-ca2c-4327-dc86-bd981ac0f347"
      },
      "execution_count": 22,
      "outputs": [
        {
          "output_type": "stream",
          "name": "stdout",
          "text": [
            "Enter your email abagb\n",
            "Enter your password 1234\n",
            "Wrong Email.\n",
            "Enter your email again niyyia\n",
            "who are you? I am calling the cops.\n"
          ]
        }
      ]
    },
    {
      "cell_type": "code",
      "source": [
        "# if-else examples\n",
        "# 1. Find the min of 3 given numbers\n",
        "# 2. Menu Driven Program"
      ],
      "metadata": {
        "id": "qo_1tY2ABlAX"
      },
      "execution_count": null,
      "outputs": []
    },
    {
      "cell_type": "code",
      "source": [
        "# min of 3 number\n",
        "\n",
        "a=int(input(\"enter first number \"))\n",
        "b=int(input(\"enter second number \"))\n",
        "c=int(input(\"enter third number \"))\n",
        "if a<b and a<c:\n",
        "  print(a,\"is the smallest number.\")\n",
        "elif b<c:\n",
        "  print(b,\"is the smallest number.\")\n",
        "else:\n",
        "  print(c,\"is the smallest number.\")"
      ],
      "metadata": {
        "colab": {
          "base_uri": "https://localhost:8080/"
        },
        "id": "gQpTJbMH3W6_",
        "outputId": "c99c8859-7342-45b1-cb53-164990fa4038"
      },
      "execution_count": 25,
      "outputs": [
        {
          "output_type": "stream",
          "name": "stdout",
          "text": [
            "enter first number 3\n",
            "enter second number 1\n",
            "enter third number 5\n",
            "1 is the smallest number.\n"
          ]
        }
      ]
    },
    {
      "cell_type": "code",
      "source": [
        "# menu driven calculator\n",
        "menu = input(\"\"\"\n",
        "Hi! how can I help you.\n",
        "1. Enter 1 for pin change\n",
        "2. Enter 2 for balance check\n",
        "3. Enter 3 for withdrawl\n",
        "4. Enter 4 for exit\n",
        "\"\"\")\n",
        "\n",
        "if menu == '1':\n",
        "  print('pin change')\n",
        "elif menu == '2':\n",
        "  print('balance')\n",
        "else:\n",
        "  print('exit')"
      ],
      "metadata": {
        "colab": {
          "base_uri": "https://localhost:8080/"
        },
        "id": "hgNqlC5C4jqF",
        "outputId": "d9a4e001-985d-46fe-fdf4-2767dde7d340"
      },
      "execution_count": null,
      "outputs": [
        {
          "output_type": "stream",
          "name": "stdout",
          "text": [
            "\n",
            "Hi! how can I help you.\n",
            "1. Enter 1 for pin change\n",
            "2. Enter 2 for balance check\n",
            "3. Enter 3 for withdrawl\n",
            "4. Enter 4 for exit\n",
            "2\n",
            "balance\n"
          ]
        }
      ]
    },
    {
      "cell_type": "markdown",
      "source": [
        "# Modules in Python\n",
        "\n",
        "- math\n",
        "- keywords\n",
        "- random\n",
        "- datetime"
      ],
      "metadata": {
        "id": "532_6mva8A6C"
      }
    },
    {
      "cell_type": "code",
      "source": [
        "# math\n",
        "import math\n",
        "\n",
        "math.sqrt(196)\n",
        "math.factorial(3)"
      ],
      "metadata": {
        "id": "x5VXt7wv8G4o",
        "colab": {
          "base_uri": "https://localhost:8080/"
        },
        "outputId": "32bed67b-5fdd-4e80-9a8f-e5feee72e3ef"
      },
      "execution_count": 26,
      "outputs": [
        {
          "output_type": "execute_result",
          "data": {
            "text/plain": [
              "6"
            ]
          },
          "metadata": {},
          "execution_count": 26
        }
      ]
    },
    {
      "cell_type": "code",
      "source": [
        "# keyword\n",
        "import keyword\n",
        "print(keyword.kwlist)"
      ],
      "metadata": {
        "id": "FLgAX9pz8HBT",
        "colab": {
          "base_uri": "https://localhost:8080/"
        },
        "outputId": "d556edbe-f498-4bf9-85cb-fae4194734ad"
      },
      "execution_count": 31,
      "outputs": [
        {
          "output_type": "stream",
          "name": "stdout",
          "text": [
            "['False', 'None', 'True', 'and', 'as', 'assert', 'async', 'await', 'break', 'class', 'continue', 'def', 'del', 'elif', 'else', 'except', 'finally', 'for', 'from', 'global', 'if', 'import', 'in', 'is', 'lambda', 'nonlocal', 'not', 'or', 'pass', 'raise', 'return', 'try', 'while', 'with', 'yield']\n"
          ]
        }
      ]
    },
    {
      "cell_type": "code",
      "source": [
        "# random\n",
        "import random\n",
        "print(random.randint(1,100))\n",
        "print(random.randint(1,5))"
      ],
      "metadata": {
        "id": "R0dWpe-w8HSZ",
        "colab": {
          "base_uri": "https://localhost:8080/"
        },
        "outputId": "c599bea0-7100-4438-921a-d5513db67a7a"
      },
      "execution_count": 37,
      "outputs": [
        {
          "output_type": "stream",
          "name": "stdout",
          "text": [
            "16\n",
            "5\n"
          ]
        }
      ]
    },
    {
      "cell_type": "code",
      "source": [
        "# datetime\n",
        "import datetime\n",
        "print(datetime.datetime.now())"
      ],
      "metadata": {
        "colab": {
          "base_uri": "https://localhost:8080/"
        },
        "id": "XNHWXsM0iFn3",
        "outputId": "fd0cc47a-b4e1-48d2-9ad7-76030fb3597b"
      },
      "execution_count": 38,
      "outputs": [
        {
          "output_type": "stream",
          "name": "stdout",
          "text": [
            "2022-11-17 06:29:18.687885\n"
          ]
        }
      ]
    },
    {
      "cell_type": "code",
      "source": [
        "help('modules')"
      ],
      "metadata": {
        "colab": {
          "base_uri": "https://localhost:8080/"
        },
        "id": "ePMxrlzX8CsQ",
        "outputId": "719443f9-8cb6-48fc-9a02-dee02625fc8f"
      },
      "execution_count": null,
      "outputs": [
        {
          "output_type": "stream",
          "name": "stdout",
          "text": [
            "\n",
            "Please wait a moment while I gather a list of all available modules...\n",
            "\n"
          ]
        },
        {
          "output_type": "stream",
          "name": "stderr",
          "text": [
            "/usr/local/lib/python3.7/dist-packages/caffe2/proto/__init__.py:17: UserWarning: Caffe2 support is not enabled in this PyTorch build. Please enable Caffe2 by building PyTorch from source with `BUILD_CAFFE2=1` flag.\n",
            "/usr/local/lib/python3.7/dist-packages/caffe2/proto/__init__.py:17: UserWarning: Caffe2 support is not enabled in this PyTorch build. Please enable Caffe2 by building PyTorch from source with `BUILD_CAFFE2=1` flag.\n",
            "/usr/local/lib/python3.7/dist-packages/caffe2/python/__init__.py:9: UserWarning: Caffe2 support is not enabled in this PyTorch build. Please enable Caffe2 by building PyTorch from source with `BUILD_CAFFE2=1` flag.\n"
          ]
        },
        {
          "output_type": "stream",
          "name": "stdout",
          "text": [
            "Cython              collections         kaggle              requests_oauthlib\n",
            "IPython             colorcet            kanren              resampy\n",
            "OpenGL              colorlover          kapre               resource\n",
            "PIL                 colorsys            keras               rlcompleter\n",
            "ScreenResolution    community           keras_preprocessing rmagic\n",
            "__future__          compileall          keyword             rpy2\n",
            "_abc                concurrent          kiwisolver          rsa\n",
            "_ast                confection          korean_lunar_calendar runpy\n",
            "_asyncio            configparser        langcodes           samples\n",
            "_bisect             cons                lib2to3             sched\n",
            "_blake2             contextlib          libfuturize         scipy\n",
            "_bootlocale         contextlib2         libpasteurize       scs\n",
            "_bz2                contextvars         librosa             seaborn\n",
            "_cffi_backend       convertdate         lightgbm            secrets\n",
            "_codecs             copy                linecache           select\n",
            "_codecs_cn          copyreg             llvmlite            selectors\n",
            "_codecs_hk          crashtest           lmdb                send2trash\n",
            "_codecs_iso2022     crcmod              locale              setuptools\n",
            "_codecs_jp          crypt               locket              setuptools_git\n",
            "_codecs_kr          csimdjson           logging             shapely\n",
            "_codecs_tw          csv                 lsb_release         shelve\n",
            "_collections        ctypes              lunarcalendar       shlex\n",
            "_collections_abc    cufflinks           lxml                shutil\n",
            "_compat_pickle      curses              lzma                signal\n",
            "_compression        cv2                 macpath             simdjson\n",
            "_contextvars        cvxopt              mailbox             site\n",
            "_crypt              cvxpy               mailcap             sitecustomize\n",
            "_csv                cycler              markdown            six\n",
            "_ctypes             cymem               markupsafe          skimage\n",
            "_ctypes_test        cython              marshal             sklearn\n",
            "_curses             cythonmagic         marshmallow         sklearn_pandas\n",
            "_curses_panel       daft                math                slugify\n",
            "_cvxcore            dask                matplotlib          smart_open\n",
            "_datetime           dataclasses         matplotlib_venn     smtpd\n",
            "_dbm                datascience         mimetypes           smtplib\n",
            "_decimal            datetime            missingno           sndhdr\n",
            "_distutils_hack     dateutil            mistune             snowballstemmer\n",
            "_dlib_pybind11      dbm                 mizani              socket\n",
            "_dummy_thread       dbus                mlxtend             socketserver\n",
            "_ecos               debugpy             mmap                socks\n",
            "_elementtree        decimal             modulefinder        sockshandler\n",
            "_functools          decorator           more_itertools      softwareproperties\n",
            "_hashlib            defusedxml          moviepy             sortedcontainers\n",
            "_heapq              descartes           mpmath              soundfile\n",
            "_imp                difflib             msgpack             spacy\n",
            "_io                 dill                multidict           spacy_legacy\n",
            "_json               dis                 multipledispatch    spacy_loggers\n",
            "_locale             distributed         multiprocessing     sphinx\n",
            "_lsprof             distutils           multitasking        spwd\n",
            "_lzma               dlib                murmurhash          sql\n",
            "_markupbase         dns                 music21             sqlalchemy\n",
            "_md5                docs                natsort             sqlite3\n",
            "_multibytecodec     doctest             nbconvert           sqlparse\n",
            "_multiprocessing    docutils            nbformat            sre_compile\n",
            "_opcode             dopamine            netCDF4             sre_constants\n",
            "_operator           dot_parser          netrc               sre_parse\n",
            "_osx_support        dummy_threading     networkx            srsly\n",
            "_pickle             easydict            nibabel             ssl\n",
            "_plotly_future_     ecos                nis                 stan\n",
            "_plotly_utils       editdistance        nisext              stat\n",
            "_posixsubprocess    ee                  nltk                statistics\n",
            "_py_abc             email               nntplib             statsmodels\n",
            "_pydecimal          en_core_web_sm      notebook            storemagic\n",
            "_pyio               encodings           ntpath              string\n",
            "_pyrsistent_version entrypoints         nturl2path          stringprep\n",
            "_pytest             enum                numba               struct\n",
            "_queue              ephem               numbergen           subprocess\n",
            "_random             erfa                numbers             sunau\n",
            "_remote_module_non_scriptable errno               numexpr             symbol\n",
            "_rinterface_cffi_abi et_xmlfile          numpy               sympy\n",
            "_rinterface_cffi_api etils               oauth2client        sympyprinting\n",
            "_scs_direct         etuples             oauthlib            symtable\n",
            "_scs_indirect       fa2                 ogr                 sys\n",
            "_sha1               fastai              okgrade             sysconfig\n",
            "_sha256             fastcore            opcode              syslog\n",
            "_sha3               fastdownload        openpyxl            tables\n",
            "_sha512             fastdtw             operator            tabnanny\n",
            "_signal             fastjsonschema      opt_einsum          tabulate\n",
            "_sitebuiltins       fastprogress        optparse            tarfile\n",
            "_socket             fastrlock           os                  tblib\n",
            "_soundfile          faulthandler        osgeo               telnetlib\n",
            "_sqlite3            fcntl               osqp                tempfile\n",
            "_sre                feather             osqppurepy          tenacity\n",
            "_ssl                filecmp             osr                 tensorboard\n",
            "_stat               fileinput           ossaudiodev         tensorboard_data_server\n",
            "_string             filelock            packaging           tensorboard_plugin_wit\n",
            "_strptime           firebase_admin      palettable          tensorflow\n",
            "_struct             fix_yahoo_finance   pandas              tensorflow_datasets\n",
            "_symtable           flask               pandas_datareader   tensorflow_estimator\n",
            "_sysconfigdata_m_linux_x86_64-linux-gnu flatbuffers         pandas_gbq          tensorflow_gcs_config\n",
            "_sysconfigdata_m_x86_64-linux-gnu fnmatch             pandas_profiling    tensorflow_hub\n",
            "_testbuffer         folium              pandocfilters       tensorflow_io_gcs_filesystem\n",
            "_testcapi           formatter           panel               tensorflow_metadata\n",
            "_testimportmultiple fractions           param               tensorflow_probability\n",
            "_testmultiphase     frozenlist          parser              termcolor\n",
            "_thread             fsspec              parso               terminado\n",
            "_threading_local    ftplib              partd               termios\n",
            "_tkinter            functools           past                test\n",
            "_tracemalloc        future              pasta               testpath\n",
            "_warnings           gast                pastel              tests\n",
            "_weakref            gc                  pathlib             text_unidecode\n",
            "_weakrefset         gdal                pathy               textblob\n",
            "_xxtestfuzz         gdalconst           patsy               textwrap\n",
            "_yaml               gdalnumeric         pdb                 thinc\n",
            "abc                 gdown               pep517              this\n",
            "absl                genericpath         pexpect             threading\n",
            "aeppl               gensim              pickle              threadpoolctl\n",
            "aesara              geographiclib       pickleshare         tifffile\n",
            "aifc                geopy               pickletools         time\n",
            "aiohttp             getopt              pip                 timeit\n",
            "aiosignal           getpass             pipes               tkinter\n",
            "alabaster           gettext             piptools            tlz\n",
            "albumentations      gi                  pkg_resources       token\n",
            "altair              gin                 pkgutil             tokenize\n",
            "antigravity         glob                platform            toml\n",
            "apiclient           glob2               plistlib            tomli\n",
            "appdirs             gnm                 plotly              toolz\n",
            "apt                 google_auth_httplib2 plotlywidget        torch\n",
            "apt_inst            google_auth_oauthlib plotnine            torchaudio\n",
            "apt_pkg             google_drive_downloader pluggy              torchgen\n",
            "aptsources          googleapiclient     pooch               torchsummary\n",
            "argparse            googlesearch        poplib              torchtext\n",
            "array               graphviz            portpicker          torchvision\n",
            "arviz               greenlet            posix               tornado\n",
            "ast                 gridfs              posixpath           tqdm\n",
            "astor               grp                 pprint              trace\n",
            "astropy             grpc                prefetch_generator  traceback\n",
            "astunparse          gspread             preshed             tracemalloc\n",
            "async_timeout       gspread_dataframe   prettytable         traitlets\n",
            "asynchat            gym                 profile             tree\n",
            "asyncio             gym_notices         progressbar         tty\n",
            "asyncore            gzip                promise             turtle\n",
            "asynctest           h5py                prompt_toolkit      tweepy\n",
            "atari_py            hashlib             prophet             typeguard\n",
            "atexit              heapdict            pstats              typer\n",
            "atomicwrites        heapq               psutil              types\n",
            "attr                hijri_converter     psycopg2            typing\n",
            "attrs               hmac                pty                 typing_extensions\n",
            "audioop             holidays            ptyprocess          tzlocal\n",
            "audioread           holoviews           pvectorc            unicodedata\n",
            "autograd            html                pwd                 unification\n",
            "autoreload          html5lib            py                  unittest\n",
            "babel               http                py_compile          uritemplate\n",
            "backcall            httpimport          pyarrow             urllib\n",
            "base64              httplib2            pyasn1              urllib3\n",
            "bdb                 httplib2shim        pyasn1_modules      uu\n",
            "bin                 httpstan            pyclbr              uuid\n",
            "binascii            humanize            pycocotools         vega_datasets\n",
            "binhex              hyperopt            pycparser           venv\n",
            "bisect              idna                pyct                vis\n",
            "bleach              imageio             pydantic            warnings\n",
            "blis                imagesize           pydata_google_auth  wasabi\n",
            "bokeh               imaplib             pydoc               wave\n",
            "boost               imblearn            pydoc_data          wcwidth\n",
            "branca              imgaug              pydot               weakref\n",
            "bs4                 imghdr              pydot_ng            webargs\n",
            "bson                imp                 pydotplus           webbrowser\n",
            "builtins            importlib           pydrive             webencodings\n",
            "bz2                 importlib_metadata  pyemd               werkzeug\n",
            "cProfile            importlib_resources pyexpat             wheel\n",
            "cachecontrol        imutils             pygments            widgetsnbextension\n",
            "cached_property     inflect             pygtkcompat         wordcloud\n",
            "cachetools          inspect             pylab               wrapt\n",
            "caffe2              intervaltree        pylev               wsgiref\n",
            "calendar            io                  pymc                xarray\n",
            "catalogue           ipaddress           pymeeus             xarray_einstats\n",
            "certifi             ipykernel           pymongo             xdrlib\n",
            "cffi                ipykernel_launcher  pymystem3           xgboost\n",
            "cftime              ipython_genutils    pyparsing           xkit\n",
            "cgi                 ipywidgets          pyrsistent          xlrd\n",
            "cgitb               isympy              pysndfile           xlwt\n",
            "chardet             itertools           pytest              xml\n",
            "charset_normalizer  itsdangerous        python_utils        xmlrpc\n",
            "chunk               jax                 pytz                xxlimited\n",
            "clang               jaxlib              pyviz_comms         xxsubtype\n",
            "click               jieba               pywt                yaml\n",
            "client              jinja2              pyximport           yarl\n",
            "clikit              joblib              qdldl               yellowbrick\n",
            "cloudpickle         jpeg4py             qudida              zict\n",
            "cmake               json                queue               zipapp\n",
            "cmath               jsonschema          quopri              zipfile\n",
            "cmd                 jupyter             random              zipimport\n",
            "cmdstanpy           jupyter_client      re                  zipp\n",
            "code                jupyter_console     readline            zlib\n",
            "codecs              jupyter_core        regex               zmq\n",
            "codeop              jupyterlab_plotly   reprlib             \n",
            "colab               jupyterlab_widgets  requests            \n",
            "\n",
            "Enter any module name to get more help.  Or, type \"modules spam\" to search\n",
            "for modules whose name or summary contain the string \"spam\".\n",
            "\n"
          ]
        }
      ]
    },
    {
      "cell_type": "markdown",
      "source": [
        "# Loops in Python\n",
        "\n",
        "- Need for loops\n",
        "- While Loop\n",
        "- For Loop"
      ],
      "metadata": {
        "id": "2Ow6_gWG7ukc"
      }
    },
    {
      "cell_type": "code",
      "source": [
        "# While loop example -> program to print the table\n",
        "# Program -> Sum of all digits of a given number\n",
        "# Program -> keep accepting numbers from users till he/she enters a 0 and then find the avg"
      ],
      "metadata": {
        "id": "Ig7NIb7L7txg"
      },
      "execution_count": null,
      "outputs": []
    },
    {
      "cell_type": "code",
      "source": [
        "number =int(input(\"Enter a number \"))\n",
        "i=1\n",
        "while i<=10:\n",
        "  print(number,\"x\",i,\"=\",number*i)\n",
        "  i=i+1"
      ],
      "metadata": {
        "colab": {
          "base_uri": "https://localhost:8080/"
        },
        "id": "brWSxgiu9rrQ",
        "outputId": "b2e84004-cee8-40bb-bf23-902637a3038d"
      },
      "execution_count": 40,
      "outputs": [
        {
          "output_type": "stream",
          "name": "stdout",
          "text": [
            "Enter a number 3\n",
            "3 x 1 = 3\n",
            "3 x 2 = 6\n",
            "3 x 3 = 9\n",
            "3 x 4 = 12\n",
            "3 x 5 = 15\n",
            "3 x 6 = 18\n",
            "3 x 7 = 21\n",
            "3 x 8 = 24\n",
            "3 x 9 = 27\n",
            "3 x 10 = 30\n"
          ]
        }
      ]
    },
    {
      "cell_type": "code",
      "source": [
        "# while loop with else \n",
        "\n",
        "x = 1\n",
        "\n",
        "while x < 3:\n",
        "  print(x)\n",
        "  x += 1\n",
        "\n",
        "else:\n",
        "  print('limit crossed')"
      ],
      "metadata": {
        "id": "Ltsr9n3H73fp",
        "colab": {
          "base_uri": "https://localhost:8080/"
        },
        "outputId": "a47f2a11-bf75-4a0a-923c-49f318514900"
      },
      "execution_count": null,
      "outputs": [
        {
          "output_type": "stream",
          "name": "stdout",
          "text": [
            "1\n",
            "2\n",
            "limit crossed\n"
          ]
        }
      ]
    },
    {
      "cell_type": "code",
      "source": [
        "# Guessing game\n",
        "import random\n",
        "number=random.randint(1,100)\n",
        "limit=0\n",
        "while(limit<11):\n",
        "  guess=int(input(\"Enter your guess \"))\n",
        "  limit+=1\n",
        "  if guess<number:\n",
        "    print(\"Guess Higher.\")\n",
        "    print(\"Chances Left\", 10-limit)\n",
        "  elif guess>number:\n",
        "    print(\"Guess Lower.\")\n",
        "    print(\"Chances Left\", 10-limit)\n",
        "  elif guess==number:\n",
        "    print(\"You guessed it right in\",limit,\"Chances.\")\n",
        "    break\n",
        "  else:\n",
        "    print(\"You Lose, Correct answer is\",number)\n"
      ],
      "metadata": {
        "id": "29y5r2cr8MRP",
        "colab": {
          "base_uri": "https://localhost:8080/"
        },
        "outputId": "fb11d98b-1a05-430d-a9c1-e0f7ea4aba1e"
      },
      "execution_count": 44,
      "outputs": [
        {
          "output_type": "stream",
          "name": "stdout",
          "text": [
            "Enter your guess 45\n",
            "Guess Higher.\n",
            "Chances Left 9\n",
            "Enter your guess 68\n",
            "Guess Higher.\n",
            "Chances Left 8\n",
            "Enter your guess 99\n",
            "Guess Lower.\n",
            "Chances Left 7\n",
            "Enter your guess 78\n",
            "Guess Higher.\n",
            "Chances Left 6\n",
            "Enter your guess 87\n",
            "Guess Lower.\n",
            "Chances Left 5\n",
            "Enter your guess 83\n",
            "You guessed it right in 6 Chances.\n"
          ]
        }
      ]
    },
    {
      "cell_type": "code",
      "source": [
        "# For loop demo\n",
        "\n",
        "for i in {1,2,3,4,5}:\n",
        "  print(i)\n",
        "print() \n",
        "for i in \"Saqib\":\n",
        "  print(i)"
      ],
      "metadata": {
        "id": "bjjx0fMr8SWh",
        "colab": {
          "base_uri": "https://localhost:8080/"
        },
        "outputId": "c36d29b1-d8d0-49e1-cf4a-918b3af16ca2"
      },
      "execution_count": 49,
      "outputs": [
        {
          "output_type": "stream",
          "name": "stdout",
          "text": [
            "1\n",
            "2\n",
            "3\n",
            "4\n",
            "5\n",
            "\n",
            "S\n",
            "a\n",
            "q\n",
            "i\n",
            "b\n"
          ]
        }
      ]
    },
    {
      "cell_type": "code",
      "source": [
        "# For loop examples"
      ],
      "metadata": {
        "id": "5ZLWEyFn8g1R"
      },
      "execution_count": null,
      "outputs": []
    },
    {
      "cell_type": "markdown",
      "source": [
        "### Program - The current population of a town is 10000. The population of the town is increasing at the rate of 10% per year. You have to write a program to find out the population at the end of each of the last 10 years."
      ],
      "metadata": {
        "id": "EXnzCtohWx2V"
      }
    },
    {
      "cell_type": "code",
      "source": [
        "curr_pop=10000\n",
        "for i in range(10):\n",
        "  print(curr_pop)\n",
        "  curr_pop=curr_pop-curr_pop*0.1\n",
        "  print(curr_pop)"
      ],
      "metadata": {
        "id": "Nc_6lslRW03g",
        "colab": {
          "base_uri": "https://localhost:8080/"
        },
        "outputId": "739c3ec6-0ec1-452a-8425-09b884f8e7e5"
      },
      "execution_count": 51,
      "outputs": [
        {
          "output_type": "stream",
          "name": "stdout",
          "text": [
            "10000\n",
            "9000.0\n",
            "9000.0\n",
            "8100.0\n",
            "8100.0\n",
            "7290.0\n",
            "7290.0\n",
            "6561.0\n",
            "6561.0\n",
            "5904.9\n",
            "5904.9\n",
            "5314.41\n",
            "5314.41\n",
            "4782.969\n",
            "4782.969\n",
            "4304.6721\n",
            "4304.6721\n",
            "3874.20489\n",
            "3874.20489\n",
            "3486.784401\n"
          ]
        }
      ]
    },
    {
      "cell_type": "markdown",
      "source": [
        "### Sequence sum\n",
        "\n",
        "1/1! + 2/2! + 3/3! + ..."
      ],
      "metadata": {
        "id": "4xVI9HkgcEla"
      }
    },
    {
      "cell_type": "code",
      "source": [
        "# code here"
      ],
      "metadata": {
        "id": "wGC1eCDecPcB"
      },
      "execution_count": null,
      "outputs": []
    },
    {
      "cell_type": "code",
      "source": [
        "# For loop vs While loops (When to use what?)"
      ],
      "metadata": {
        "id": "PNLWd1WR8dSw"
      },
      "execution_count": null,
      "outputs": []
    },
    {
      "cell_type": "markdown",
      "source": [
        "# Nested Loops"
      ],
      "metadata": {
        "id": "1bdP8FTX87Du"
      }
    },
    {
      "cell_type": "code",
      "source": [
        "# Examples"
      ],
      "metadata": {
        "id": "-YY5edV98lXq"
      },
      "execution_count": null,
      "outputs": []
    },
    {
      "cell_type": "code",
      "source": [
        "# Program - Unique combination of 1,2,3,4\n",
        "# Program - Pattern 1 and 2"
      ],
      "metadata": {
        "id": "Ym8nRkqxGXLN"
      },
      "execution_count": null,
      "outputs": []
    },
    {
      "cell_type": "markdown",
      "source": [
        "### Pattern 1\n",
        "\n",
        "\n",
        "*** <br>\n",
        "**** <br>\n",
        "***<br>\n"
      ],
      "metadata": {
        "id": "_Hz8L0f3c_3P"
      }
    },
    {
      "cell_type": "code",
      "source": [],
      "metadata": {
        "id": "YsL_YmxRdNrn"
      },
      "execution_count": null,
      "outputs": []
    },
    {
      "cell_type": "markdown",
      "source": [
        "### Pattern 2\n",
        "\n",
        "1<br>\n",
        "121<br>\n",
        "12321<br>\n",
        "1234321<br>"
      ],
      "metadata": {
        "id": "eVAO3tVmdOWV"
      }
    },
    {
      "cell_type": "code",
      "source": [],
      "metadata": {
        "id": "sHW4YJqcdXzw"
      },
      "execution_count": null,
      "outputs": []
    },
    {
      "cell_type": "markdown",
      "source": [
        "# Loop Control Statement\n",
        "\n",
        "- Break\n",
        "- Continue\n",
        "- Pass"
      ],
      "metadata": {
        "id": "8GccSRIt891U"
      }
    },
    {
      "cell_type": "code",
      "source": [
        "# Break demo"
      ],
      "metadata": {
        "id": "kN9s2dG89DlJ"
      },
      "execution_count": null,
      "outputs": []
    },
    {
      "cell_type": "code",
      "source": [
        "# Break example (Linear Search) -> Prime number in a given range"
      ],
      "metadata": {
        "id": "u09EdMCm9FK_"
      },
      "execution_count": null,
      "outputs": []
    },
    {
      "cell_type": "code",
      "source": [
        "# Continue demo"
      ],
      "metadata": {
        "id": "3q5asa2l9GYy"
      },
      "execution_count": null,
      "outputs": []
    },
    {
      "cell_type": "code",
      "source": [
        "# Continue Example (Ecommerce)"
      ],
      "metadata": {
        "id": "cA8CiMgn9IIT"
      },
      "execution_count": null,
      "outputs": []
    },
    {
      "cell_type": "code",
      "source": [
        "# Pass demo"
      ],
      "metadata": {
        "id": "P7GB16j59J-3"
      },
      "execution_count": null,
      "outputs": []
    }
  ]
}