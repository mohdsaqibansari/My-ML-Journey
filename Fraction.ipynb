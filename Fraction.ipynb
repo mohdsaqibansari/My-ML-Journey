{
  "nbformat": 4,
  "nbformat_minor": 0,
  "metadata": {
    "colab": {
      "provenance": [],
      "authorship_tag": "ABX9TyMwMwyhXhlpEyftWVNtNl0r",
      "include_colab_link": true
    },
    "kernelspec": {
      "name": "python3",
      "display_name": "Python 3"
    },
    "language_info": {
      "name": "python"
    }
  },
  "cells": [
    {
      "cell_type": "markdown",
      "metadata": {
        "id": "view-in-github",
        "colab_type": "text"
      },
      "source": [
        "<a href=\"https://colab.research.google.com/github/mohdsaqibansari/My-ML-Journey/blob/main/Fraction.ipynb\" target=\"_parent\"><img src=\"https://colab.research.google.com/assets/colab-badge.svg\" alt=\"Open In Colab\"/></a>"
      ]
    },
    {
      "cell_type": "code",
      "execution_count": 13,
      "metadata": {
        "id": "XB3biS5cAUli"
      },
      "outputs": [],
      "source": [
        "class Fraction:\n",
        "  def __init__(self,n,d):\n",
        "    self.num=n\n",
        "    self.den=d\n",
        "  \n",
        "  def __str__(self):\n",
        "    return '{}/{}'.format(self.num,self.den)\n",
        "\n",
        "  def __add__(self,other):\n",
        "    frac_num=self.num*other.den+other.num*self.den\n",
        "    frac_den=self.den*other.den\n",
        "    return '{}/{}'.format(frac_num,frac_den)\n",
        "\n",
        "  def __sub__(self,other):\n",
        "    frac_num=self.num*other.den-other.num*self.den\n",
        "    frac_den=self.den*other.den\n",
        "    return '{}/{}'.format(frac_num,frac_den)\n",
        "\n",
        "  def __mul__(self,other):\n",
        "    frac_num=self.num*other.num\n",
        "    frac_den=self.den*other.den\n",
        "    return '{}/{}'.format(frac_num,frac_den)\n",
        "\n",
        "  def __truediv__(self,other):\n",
        "    frac_num=self.num*other.den\n",
        "    frac_den=self.den*other.num\n",
        "    return '{}/{}'.format(frac_num,frac_den)\n",
        "\n",
        "\n"
      ]
    },
    {
      "cell_type": "code",
      "source": [
        "frac=Fraction(1,2)"
      ],
      "metadata": {
        "id": "-DHFq_jkA3KZ"
      },
      "execution_count": 14,
      "outputs": []
    },
    {
      "cell_type": "code",
      "source": [
        "print(frac)"
      ],
      "metadata": {
        "colab": {
          "base_uri": "https://localhost:8080/"
        },
        "id": "Um1r8utoA9Ct",
        "outputId": "212381ea-5f1d-4006-be72-c44f8097d91d"
      },
      "execution_count": 15,
      "outputs": [
        {
          "output_type": "stream",
          "name": "stdout",
          "text": [
            "1/2\n"
          ]
        }
      ]
    },
    {
      "cell_type": "code",
      "source": [
        "frac2=Fraction(2,3)"
      ],
      "metadata": {
        "id": "bV7a2t8NBAfi"
      },
      "execution_count": 16,
      "outputs": []
    },
    {
      "cell_type": "code",
      "source": [
        "print(frac+frac2)"
      ],
      "metadata": {
        "colab": {
          "base_uri": "https://localhost:8080/"
        },
        "id": "EUh6JSiOCoYC",
        "outputId": "0c7e5aa5-f611-40f3-964a-75506bfde105"
      },
      "execution_count": 17,
      "outputs": [
        {
          "output_type": "stream",
          "name": "stdout",
          "text": [
            "7/6\n"
          ]
        }
      ]
    },
    {
      "cell_type": "code",
      "source": [
        "print(frac-frac2)"
      ],
      "metadata": {
        "colab": {
          "base_uri": "https://localhost:8080/"
        },
        "id": "_LgdZVBLCtaL",
        "outputId": "68203b25-001d-4a4f-9c29-a3f3b5e092f2"
      },
      "execution_count": 18,
      "outputs": [
        {
          "output_type": "stream",
          "name": "stdout",
          "text": [
            "-1/6\n"
          ]
        }
      ]
    },
    {
      "cell_type": "code",
      "source": [
        "print(frac*frac2)"
      ],
      "metadata": {
        "colab": {
          "base_uri": "https://localhost:8080/"
        },
        "id": "PpYWh9ahD_sR",
        "outputId": "1e45dbe2-4452-4bb2-86d1-14499de31d7c"
      },
      "execution_count": 19,
      "outputs": [
        {
          "output_type": "stream",
          "name": "stdout",
          "text": [
            "2/6\n"
          ]
        }
      ]
    },
    {
      "cell_type": "code",
      "source": [
        "print(frac/frac2)"
      ],
      "metadata": {
        "colab": {
          "base_uri": "https://localhost:8080/"
        },
        "id": "jkOuA_hsECQw",
        "outputId": "e0c68320-62eb-4823-a195-b50511b3a2a5"
      },
      "execution_count": 20,
      "outputs": [
        {
          "output_type": "stream",
          "name": "stdout",
          "text": [
            "3/4\n"
          ]
        }
      ]
    },
    {
      "cell_type": "code",
      "source": [],
      "metadata": {
        "id": "4DhmlecAEEzt"
      },
      "execution_count": null,
      "outputs": []
    }
  ]
}